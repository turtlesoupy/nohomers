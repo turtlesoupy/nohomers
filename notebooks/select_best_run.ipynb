{
 "cells": [
  {
   "cell_type": "code",
   "execution_count": 1,
   "metadata": {},
   "outputs": [],
   "source": [
    "%load_ext autoreload\n",
    "%autoreload 2\n",
    "import sys\n",
    "import os\n",
    "sys.path.insert(0, \"../\")"
   ]
  },
  {
   "cell_type": "code",
   "execution_count": 21,
   "metadata": {},
   "outputs": [],
   "source": [
    "from nohomers.notebook.widgets import expand2square, image_labeller_widget, display_df_images\n",
    "from nohomers.ml.torch_datasets import SimpleVisionExample, SimpleVisionDataset, split_train_valid_test, pil_loader\n",
    "from nohomers.ml.lightweight_gan_trainer import get_trainer, generate_images\n",
    "from nohomers.ml.cleaner import make_train_test_datasets, train_cleaner, make_network_input_from_images, load_cleaner, save_cleaner\n",
    "from torch.utils.data import DataLoader\n",
    "from torch.utils.data.dataloader import default_collate\n",
    "import pandas as pd\n",
    "import numpy as np\n",
    "import torch\n",
    "import torchvision\n",
    "import pydash as py_\n",
    "from tqdm.auto import tqdm\n",
    "from uuid import uuid4\n",
    "from PIL import Image\n",
    "from pathlib import Path\n",
    "import json\n",
    "import copy\n",
    "import shutil\n",
    "from multiprocessing.pool import ThreadPool\n",
    "from PIL import ImageFile\n",
    "ImageFile.LOAD_TRUNCATED_IMAGES = True\n",
    "from collections import defaultdict, Counter\n",
    "import re"
   ]
  },
  {
   "cell_type": "code",
   "execution_count": 3,
   "metadata": {},
   "outputs": [],
   "source": [
    "base_folder = Path(\"/mnt/evo/projects/nohomers/cleaners/selection\")"
   ]
  },
  {
   "cell_type": "code",
   "execution_count": 4,
   "metadata": {},
   "outputs": [],
   "source": [
    "## If you want to remove\n",
    "try:\n",
    "    shutil.rmtree(base_folder)\n",
    "except FileNotFoundError:\n",
    "    pass\n",
    "base_folder.mkdir(parents=True, exist_ok=True)"
   ]
  },
  {
   "cell_type": "code",
   "execution_count": 6,
   "metadata": {},
   "outputs": [],
   "source": [
    "checkpoints = {25, 30, 35, 40, 45, 50}"
   ]
  },
  {
   "cell_type": "code",
   "execution_count": 7,
   "metadata": {},
   "outputs": [
    {
     "name": "stdout",
     "output_type": "stream",
     "text": [
      "loading from version 0.12.4\n"
     ]
    },
    {
     "data": {
      "application/vnd.jupyter.widget-view+json": {
       "model_id": "67fd8fbca3844015bc1bab194fca0d8a",
       "version_major": 2,
       "version_minor": 0
      },
      "text/plain": [
       "HBox(children=(HTML(value=''), FloatProgress(value=0.0, max=5.0), HTML(value='')))"
      ]
     },
     "metadata": {},
     "output_type": "display_data"
    },
    {
     "name": "stdout",
     "output_type": "stream",
     "text": [
      "\n",
      "loading from version 0.12.4\n"
     ]
    },
    {
     "data": {
      "application/vnd.jupyter.widget-view+json": {
       "model_id": "d188d17d7e38415bb8bab1e26787a26b",
       "version_major": 2,
       "version_minor": 0
      },
      "text/plain": [
       "HBox(children=(HTML(value=''), FloatProgress(value=0.0, max=5.0), HTML(value='')))"
      ]
     },
     "metadata": {},
     "output_type": "display_data"
    },
    {
     "name": "stdout",
     "output_type": "stream",
     "text": [
      "\n",
      "loading from version 0.12.4\n"
     ]
    },
    {
     "data": {
      "application/vnd.jupyter.widget-view+json": {
       "model_id": "e01c511c81cc4e199f9ca04f38a4bca5",
       "version_major": 2,
       "version_minor": 0
      },
      "text/plain": [
       "HBox(children=(HTML(value=''), FloatProgress(value=0.0, max=5.0), HTML(value='')))"
      ]
     },
     "metadata": {},
     "output_type": "display_data"
    },
    {
     "name": "stdout",
     "output_type": "stream",
     "text": [
      "\n",
      "loading from version 0.12.4\n"
     ]
    },
    {
     "data": {
      "application/vnd.jupyter.widget-view+json": {
       "model_id": "2006323d442b45d9837a6a86085a8265",
       "version_major": 2,
       "version_minor": 0
      },
      "text/plain": [
       "HBox(children=(HTML(value=''), FloatProgress(value=0.0, max=5.0), HTML(value='')))"
      ]
     },
     "metadata": {},
     "output_type": "display_data"
    },
    {
     "name": "stdout",
     "output_type": "stream",
     "text": [
      "\n",
      "loading from version 0.12.4\n"
     ]
    },
    {
     "data": {
      "application/vnd.jupyter.widget-view+json": {
       "model_id": "6deea674ad8045c8af80ffcf690ea351",
       "version_major": 2,
       "version_minor": 0
      },
      "text/plain": [
       "HBox(children=(HTML(value=''), FloatProgress(value=0.0, max=5.0), HTML(value='')))"
      ]
     },
     "metadata": {},
     "output_type": "display_data"
    },
    {
     "name": "stdout",
     "output_type": "stream",
     "text": [
      "\n",
      "loading from version 0.12.4\n"
     ]
    },
    {
     "data": {
      "application/vnd.jupyter.widget-view+json": {
       "model_id": "3fb8564079154ef88a45a2c295e8252e",
       "version_major": 2,
       "version_minor": 0
      },
      "text/plain": [
       "HBox(children=(HTML(value=''), FloatProgress(value=0.0, max=5.0), HTML(value='')))"
      ]
     },
     "metadata": {},
     "output_type": "display_data"
    },
    {
     "name": "stdout",
     "output_type": "stream",
     "text": [
      "\n"
     ]
    }
   ],
   "source": [
    "for checkpoint in checkpoints:\n",
    "    trainer = get_trainer(\n",
    "        models_dir=\"/mnt/evo/projects/metapedia/tmp/stylegan2/models\", \n",
    "        name=\"simpsons_large_cleaned_nobackground_1024_augall03_sle_res64\",\n",
    "        load_from=checkpoint,\n",
    "    )\n",
    "    \n",
    "    num_examples = 500\n",
    "    per_batch = 100\n",
    "    with ThreadPool(32) as pool:\n",
    "        for batch in tqdm(range(0, num_examples, per_batch)):\n",
    "            images = generate_images(trainer, per_batch)\n",
    "            list(\n",
    "                pool.imap(lambda x: x.image.save(base_folder / f\"checkpoint_{checkpoint}_{uuid4()}.png\"), images)\n",
    "            )"
   ]
  },
  {
   "cell_type": "code",
   "execution_count": 8,
   "metadata": {},
   "outputs": [],
   "source": [
    "images = list(base_folder.glob(\"*.png\"))\n",
    "labels = {}"
   ]
  },
  {
   "cell_type": "code",
   "execution_count": 27,
   "metadata": {},
   "outputs": [],
   "source": [
    "\n",
    "counts = defaultdict(Counter)\n",
    "for path, label in labels.items():\n",
    "    m = re.match(r\"checkpoint_(\\d+)_.*\", path.name)\n",
    "    checkpoint = m.group(1)\n",
    "    counts[checkpoint][label] += 1 "
   ]
  },
  {
   "cell_type": "code",
   "execution_count": 28,
   "metadata": {},
   "outputs": [
    {
     "name": "stdout",
     "output_type": "stream",
     "text": [
      "25\tAmazing 0.02\tGood 0.35\tBad 0.62\t Pass=0.38\n",
      "30\tAmazing 0.03\tGood 0.33\tBad 0.63\t Pass=0.37\n",
      "35\tAmazing 0.06\tGood 0.44\tBad 0.50\t Pass=0.50\n",
      "40\tAmazing 0.08\tGood 0.36\tBad 0.56\t Pass=0.44\n",
      "45\tAmazing 0.07\tGood 0.32\tBad 0.61\t Pass=0.39\n",
      "50\tAmazing 0.06\tGood 0.23\tBad 0.71\t Pass=0.29\n"
     ]
    }
   ],
   "source": [
    "for checkpoint, counts in sorted(counts.items()):\n",
    "    amazing, good, bad = [counts[e] for e in (\"Amazing\", \"Good\", \"Bad\")]\n",
    "    passing = amazing + good\n",
    "    total_counts = amazing + good + bad\n",
    "    print(f\"{checkpoint}\\tAmazing {amazing / total_counts:.2f}\\tGood {good / total_counts:.2f}\\tBad {bad / total_counts:.2f}\\t Pass={passing / total_counts:.2f}\")"
   ]
  },
  {
   "cell_type": "code",
   "execution_count": 16,
   "metadata": {},
   "outputs": [
    {
     "data": {
      "application/vnd.jupyter.widget-view+json": {
       "model_id": "82baf4cf467744299662e960c0108dc9",
       "version_major": 2,
       "version_minor": 0
      },
      "text/plain": [
       "VBox(children=(HBox(children=(Image(value=b'\\x89PNG\\r\\n\\x1a\\n\\x00\\x00\\x00\\rIHDR\\x00\\x00\\x00\\xfa\\x00\\x00\\x00\\xf…"
      ]
     },
     "metadata": {},
     "output_type": "display_data"
    }
   ],
   "source": [
    "to_label = py_.sample_size(images, 100)\n",
    "image_labeller_widget(to_label, labels, [\"N/A\", \"Amazing\", \"Good\", \"Bad\"], image_size=(250, 250))"
   ]
  }
 ],
 "metadata": {
  "kernelspec": {
   "display_name": "Python 3",
   "language": "python",
   "name": "python3"
  },
  "language_info": {
   "codemirror_mode": {
    "name": "ipython",
    "version": 3
   },
   "file_extension": ".py",
   "mimetype": "text/x-python",
   "name": "python",
   "nbconvert_exporter": "python",
   "pygments_lexer": "ipython3",
   "version": "3.8.6"
  }
 },
 "nbformat": 4,
 "nbformat_minor": 4
}
