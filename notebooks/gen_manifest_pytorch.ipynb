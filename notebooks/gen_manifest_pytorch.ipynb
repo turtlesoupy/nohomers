{
 "cells": [
  {
   "cell_type": "code",
   "execution_count": 2,
   "metadata": {},
   "outputs": [],
   "source": [
    "%load_ext autoreload\n",
    "%autoreload 2\n",
    "import sys\n",
    "import os\n",
    "sys.path.insert(0, \"../\")"
   ]
  },
  {
   "cell_type": "code",
   "execution_count": 3,
   "metadata": {},
   "outputs": [],
   "source": [
    "from tqdm.auto import tqdm\n",
    "import torch\n",
    "import json\n",
    "from pathlib import Path\n",
    "from nohomers.ml.lightweight_gan_trainer import get_trainer, gen_images_and_manifest, gen_interpolation_videos, GeneratedRef\n",
    "from nohomers.ml.cleaner import load_cleaner\n",
    "from uuid import uuid4\n",
    "from PIL import Image\n",
    "import torchvision\n",
    "import tempfile\n",
    "from torchvision import transforms\n",
    "import numpy as np\n",
    "import ffmpeg\n",
    "import shutil\n",
    "import copy\n",
    "import random"
   ]
  },
  {
   "cell_type": "code",
   "execution_count": 4,
   "metadata": {},
   "outputs": [
    {
     "name": "stdout",
     "output_type": "stream",
     "text": [
      "loading from version 0.12.4\n"
     ]
    }
   ],
   "source": [
    "trainer = get_trainer(\n",
    "    models_dir=\"/mnt/evo/projects/metapedia/tmp/stylegan2/models\", \n",
    "    name=\"simpsons_large_cleaned_nobackground_1024_augall03_sle_res64\",\n",
    "    load_from=35,\n",
    ")"
   ]
  },
  {
   "cell_type": "code",
   "execution_count": 4,
   "metadata": {},
   "outputs": [],
   "source": [
    "cleaner = load_cleaner(Path(\"/mnt/evo/projects/nohomers/cleaners/simpsons_large_cleaned_nobackground_1024_augall03_sle_res64-35/cleaner.pkl\")).cuda()"
   ]
  },
  {
   "cell_type": "code",
   "execution_count": 5,
   "metadata": {},
   "outputs": [],
   "source": [
    "output_dir = Path(\"/mnt/evo/projects/nohomers/assets/simpsons_large_cleaned_nobackground_1024_augall03_sle_res64-35-p100\")"
   ]
  },
  {
   "cell_type": "code",
   "execution_count": 6,
   "metadata": {},
   "outputs": [
    {
     "data": {
      "application/vnd.jupyter.widget-view+json": {
       "model_id": "3a90598383634353a23562869b961122",
       "version_major": 2,
       "version_minor": 0
      },
      "text/plain": [
       "HBox(children=(HTML(value=''), FloatProgress(value=0.0, max=10000.0), HTML(value='')))"
      ]
     },
     "metadata": {},
     "output_type": "display_data"
    },
    {
     "name": "stdout",
     "output_type": "stream",
     "text": [
      "\n"
     ]
    }
   ],
   "source": [
    "shutil.rmtree(output_dir, ignore_errors=True, onerror=None)\n",
    "output_dir.mkdir(parents=True, exist_ok=True)\n",
    "\n",
    "manifest = gen_images_and_manifest(\n",
    "    trainer, \n",
    "    output_dir,\n",
    "    num=10_000,\n",
    "    batch_size=225,\n",
    "    cleaner=cleaner,\n",
    "    clean_threshold=0.644,\n",
    ")"
   ]
  },
  {
   "cell_type": "code",
   "execution_count": 7,
   "metadata": {},
   "outputs": [],
   "source": [
    "manifest_path = Path(output_dir) / \"image_manifest.json\""
   ]
  },
  {
   "cell_type": "code",
   "execution_count": 8,
   "metadata": {},
   "outputs": [],
   "source": [
    "with open(manifest_path, \"w\") as f:\n",
    "    json.dump([e.to_dict() for e in manifest], f)"
   ]
  },
  {
   "cell_type": "code",
   "execution_count": 8,
   "metadata": {},
   "outputs": [],
   "source": [
    "with open(manifest_path, \"r\") as f:\n",
    "    manifest = [GeneratedRef.from_dict(e) for e in json.load(f)]"
   ]
  },
  {
   "cell_type": "code",
   "execution_count": 9,
   "metadata": {},
   "outputs": [
    {
     "data": {
      "text/plain": [
       "10000"
      ]
     },
     "execution_count": 9,
     "metadata": {},
     "output_type": "execute_result"
    }
   ],
   "source": [
    "len(manifest)"
   ]
  },
  {
   "cell_type": "code",
   "execution_count": 10,
   "metadata": {},
   "outputs": [
    {
     "data": {
      "application/vnd.jupyter.widget-view+json": {
       "model_id": "1da26adcbce841b9ac86c215de71f084",
       "version_major": 2,
       "version_minor": 0
      },
      "text/plain": [
       "HBox(children=(HTML(value=''), FloatProgress(value=0.0, max=10000.0), HTML(value='')))"
      ]
     },
     "metadata": {},
     "output_type": "display_data"
    },
    {
     "name": "stdout",
     "output_type": "stream",
     "text": [
      "\n"
     ]
    }
   ],
   "source": [
    "video_manifest = gen_interpolation_videos(\n",
    "    trainer, manifest[:10000], output_dir, per_edge=2, video_duration=2.0, batch_size=225, video_fps=30,\n",
    ")"
   ]
  },
  {
   "cell_type": "code",
   "execution_count": 11,
   "metadata": {},
   "outputs": [],
   "source": [
    "manifest_path = Path(output_dir) / \"manifest.json\"\n",
    "with open(manifest_path, \"w\") as f:\n",
    "    json.dump([e.to_dict() for e in video_manifest], f)"
   ]
  }
 ],
 "metadata": {
  "kernelspec": {
   "display_name": "Python 3",
   "language": "python",
   "name": "python3"
  },
  "language_info": {
   "codemirror_mode": {
    "name": "ipython",
    "version": 3
   },
   "file_extension": ".py",
   "mimetype": "text/x-python",
   "name": "python",
   "nbconvert_exporter": "python",
   "pygments_lexer": "ipython3",
   "version": "3.8.6"
  }
 },
 "nbformat": 4,
 "nbformat_minor": 4
}
