{
 "cells": [
  {
   "cell_type": "code",
   "execution_count": 6,
   "metadata": {},
   "outputs": [
    {
     "name": "stdout",
     "output_type": "stream",
     "text": [
      "The autoreload extension is already loaded. To reload it, use:\n",
      "  %reload_ext autoreload\n"
     ]
    }
   ],
   "source": [
    "%load_ext autoreload\n",
    "%autoreload 2\n",
    "import sys\n",
    "import os\n",
    "sys.path.insert(0, \"../\")"
   ]
  },
  {
   "cell_type": "code",
   "execution_count": 41,
   "metadata": {},
   "outputs": [],
   "source": [
    "from tqdm.auto import tqdm\n",
    "import torch\n",
    "import json\n",
    "from pathlib import Path\n",
    "from nohomers.ml.lightweight_gan_trainer import get_trainer, gen_images_and_manifest, gen_interpolation_videos\n",
    "from nohomers.ml.cleaner import load_cleaner\n",
    "from uuid import uuid4\n",
    "from PIL import Image\n",
    "import torchvision\n",
    "import tempfile\n",
    "from torchvision import transforms\n",
    "import numpy as np\n",
    "import ffmpeg\n",
    "import shutil\n",
    "import copy\n",
    "import random"
   ]
  },
  {
   "cell_type": "code",
   "execution_count": 9,
   "metadata": {},
   "outputs": [
    {
     "name": "stdout",
     "output_type": "stream",
     "text": [
      "loading from version 0.12.4\n"
     ]
    }
   ],
   "source": [
    "trainer = get_trainer(\n",
    "    models_dir=\"/mnt/evo/projects/metapedia/tmp/stylegan2/models\", \n",
    "    name=\"simpsons_large_cleaned_nobackground_1024_augnormal04\",\n",
    "    load_from=65,\n",
    ").to(\"cuda:0\")"
   ]
  },
  {
   "cell_type": "code",
   "execution_count": 10,
   "metadata": {},
   "outputs": [],
   "source": [
    "cleaner = load_cleaner(Path(\"/mnt/evo/projects/nohomers/cleaners/simpsons_large_cleaned_nobackground_1024_augnormal04/cleaner.pkl\"))"
   ]
  },
  {
   "cell_type": "code",
   "execution_count": 36,
   "metadata": {},
   "outputs": [
    {
     "data": {
      "application/vnd.jupyter.widget-view+json": {
       "model_id": "da934caa48ef4063acf66eaf36c6a0e5",
       "version_major": 2,
       "version_minor": 0
      },
      "text/plain": [
       "HBox(children=(HTML(value=''), FloatProgress(value=0.0), HTML(value='')))"
      ]
     },
     "metadata": {},
     "output_type": "display_data"
    },
    {
     "name": "stdout",
     "output_type": "stream",
     "text": [
      "\n"
     ]
    }
   ],
   "source": [
    "output_dir = Path(\"/mnt/evo/projects/nohomers/assets/simpsons_large_cleaned_nobackground_1024_augnormal04\")\n",
    "shutil.rmtree(output_dir, ignore_errors=True, onerror=None)\n",
    "output_dir.mkdir(parents=True, exist_ok=True)\n",
    "\n",
    "manifest = gen_images_and_manifest(\n",
    "    trainer, \n",
    "    output_dir,\n",
    "    num=10_000,\n",
    "    batch_size=100,\n",
    "    cleaner=cleaner,\n",
    "    clean_threshold=0.55,\n",
    ")"
   ]
  },
  {
   "cell_type": "code",
   "execution_count": 57,
   "metadata": {},
   "outputs": [
    {
     "data": {
      "application/vnd.jupyter.widget-view+json": {
       "model_id": "5a1031dd8e5642a391de8ac11bcf1cd7",
       "version_major": 2,
       "version_minor": 0
      },
      "text/plain": [
       "HBox(children=(HTML(value=''), FloatProgress(value=0.0, max=4329.0), HTML(value='')))"
      ]
     },
     "metadata": {},
     "output_type": "display_data"
    },
    {
     "name": "stdout",
     "output_type": "stream",
     "text": [
      "\n"
     ]
    }
   ],
   "source": [
    "video_manifest = gen_interpolation_videos(\n",
    "    trainer, manifest, output_dir, per_edge=2, video_duration=1.5,\n",
    ")"
   ]
  },
  {
   "cell_type": "code",
   "execution_count": 61,
   "metadata": {},
   "outputs": [],
   "source": [
    "manifest_path = Path(output_dir) / \"manifest.json\"\n",
    "with open(manifest_path, \"w\") as f:\n",
    "    json.dump([e.to_dict() for e in video_manifest], f)"
   ]
  },
  {
   "cell_type": "code",
   "execution_count": 24,
   "metadata": {},
   "outputs": [],
   "source": [
    "test = generate_interpolation_frames(\n",
    "    trainer, \n",
    "    latents_low=image_and_latents[0][0].unsqueeze(0),\n",
    "    latents_high=image_and_latents[1][0].unsqueeze(0),\n",
    "    num_frames=120,\n",
    ")[0]"
   ]
  },
  {
   "cell_type": "code",
   "execution_count": 169,
   "metadata": {},
   "outputs": [],
   "source": [
    "frames_to_video(test, output_dir / \"test.mp4\", fps=30, bitrate=\"0.5M\")"
   ]
  },
  {
   "cell_type": "code",
   "execution_count": 160,
   "metadata": {},
   "outputs": [
    {
     "name": "stdout",
     "output_type": "stream",
     "text": [
      "True\n"
     ]
    }
   ],
   "source": [
    "print((output_dir / \"test.mp4\").exists())"
   ]
  }
 ],
 "metadata": {
  "kernelspec": {
   "display_name": "Python 3",
   "language": "python",
   "name": "python3"
  },
  "language_info": {
   "codemirror_mode": {
    "name": "ipython",
    "version": 3
   },
   "file_extension": ".py",
   "mimetype": "text/x-python",
   "name": "python",
   "nbconvert_exporter": "python",
   "pygments_lexer": "ipython3",
   "version": "3.8.6"
  }
 },
 "nbformat": 4,
 "nbformat_minor": 4
}
